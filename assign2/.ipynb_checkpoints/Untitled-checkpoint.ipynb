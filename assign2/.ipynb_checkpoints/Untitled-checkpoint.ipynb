{
 "cells": [
  {
   "cell_type": "markdown",
   "metadata": {},
   "source": [
    "## Assignment 2\n",
    "\n",
    "Snehashis Pal <br>\n",
    "M.Tech <br>\n",
    "2018201072 <br>\n",
    "\n",
    "The .py files take as input the train dataset and optional test dataset as command line inputs. It then performs 80% train - 20% validation followd by testing(if given data) with the 80% trained data. All this is done after shuffling the dataset. q-1-1.py has code for KNN-Robot dataset, q-1-2.py has code for KNN-Iris dataset. q-2.py and q-3.py has bayes classifier and linear regression respectively. It is assumed that the indices for the class label and the indices of the features will remain consistant in the testing done with the dataset provided. If any changes is required, please adjust the classIndex and features variable in the .py files.\n",
    "\n",
    "Python modules used"
   ]
  },
  {
   "cell_type": "code",
   "execution_count": 3,
   "metadata": {},
   "outputs": [],
   "source": [
    "import pandas as pd\n",
    "import numpy as np\n",
    "from sklearn.neighbors import KNeighborsClassifier\n",
    "from sklearn.naive_bayes import GaussianNB\n",
    "from sklearn import linear_model\n",
    "import heapq\n",
    "import matplotlib.pyplot as plt\n",
    "eps = np.finfo(float).eps"
   ]
  },
  {
   "cell_type": "markdown",
   "metadata": {},
   "source": [
    "### Question 1: KNN Classifier\n",
    "\n",
    "The KNN classifier works based on proximity to other data in the set of points. The distance to other points can be calculated using various different distance measures. The general procedure for the KNN classifier for every new point is\n",
    "<ol>\n",
    "    <li>For every point in the set of points in the KNN classifier calculate the distance from the new point.</li>\n",
    "    <li>Select he K most closest points</li>\n",
    "    <li>\n",
    "        For binary classification\n",
    "        <ul>\n",
    "            <li>Choose K to be an odd number</li>\n",
    "            <li>From the K closest point find the most represented class and assign the new point to that class</li>\n",
    "        </ul>\n",
    "    </li>\n",
    "    <li> For multiclass classification there may be more than one class with equal number of representative points in the KNN set. \n",
    "        <ul>\n",
    "            <li>For each class of points in the set of K points compute the weighted sum of distances for each point in the class</li>\n",
    "            <li>Classify the point to the most represented class in the K neighbour set.</li>\n",
    "            <li>In case of ties arbitrate using the wighted sums of all the points in a given class</li>\n",
    "        </ul>\n",
    "    </li>\n",
    "</ol>\n",
    "The weights in case of weighted sums should be taken such that closer points have a larger effect than far away points. A simple method would be to use inverses of distances as weights.\n",
    "    "
   ]
  },
  {
   "cell_type": "markdown",
   "metadata": {},
   "source": [
    "#### Robot Dataset"
   ]
  },
  {
   "cell_type": "code",
   "execution_count": 10,
   "metadata": {
    "code_folding": []
   },
   "outputs": [],
   "source": [
    "#distance parameters\n",
    "def norm(p):\n",
    "    \n",
    "    def pnorm(point,newPoint):\n",
    "        euNorm = 0\n",
    "        for i,j in list(zip(point,newPoint)):\n",
    "            euNorm += abs(i - j)**p\n",
    "        if p == 0:\n",
    "            return euNorm\n",
    "        return euNorm**(1/float(p))\n",
    "    return pnorm\n",
    "\n",
    "#find k minimum data points\n",
    "def kminDist(pointSet,point,func,k):\n",
    "    dist = [(func(point,i),j) for i,j in list(zip(pointSet,range(len(pointSet))))]\n",
    "    return heapq.nsmallest(k,dist,key = lambda x: x[0])"
   ]
  },
  {
   "cell_type": "code",
   "execution_count": 9,
   "metadata": {},
   "outputs": [],
   "source": [
    "#scikit inmplementation\n",
    "def sciKnn(dataset,classIndex,features,k,t):\n",
    "    split = int(t*dataset.shape[0])\n",
    "    train = dataset[0:split,features]\n",
    "    tlabel = dataset[0:split,classIndex]\n",
    "    knn = KNeighborsClassifier(n_neighbors=k)\n",
    "    knn.fit(train,tlabel.astype(str))\n",
    "    validate = dataset[split:,features]\n",
    "    vlabel = dataset[split:,classIndex]\n",
    "    return knn.score(validate,vlabel.astype(str))\n",
    "    \n",
    "    "
   ]
  },
  {
   "cell_type": "code",
   "execution_count": 86,
   "metadata": {},
   "outputs": [],
   "source": [
    "#k-means classifier\n",
    "\n",
    "#knn predictor features is the n dimensional feature indices\n",
    "def knnPredict(dataset,classIndex,features,k,testdata,func,labels):\n",
    "    \n",
    "    cdict = {}\n",
    "    for c in labels:\n",
    "        cdict[c] = np.array([0,float(0)])\n",
    "    distVec = kminDist(dataset[:,features],testdata,func,k)\n",
    "    for j in distVec:\n",
    "        cdict[dataset[j[1]][classIndex]] += (1,j[0])\n",
    "    \n",
    "    vdist = [(i[0],i[1],j) for i,j in list(zip(cdict.values(),cdict.keys()))]\n",
    "    vdist.sort(key = lambda x:(x[0],-x[0]),reverse=True)\n",
    "    #print(vdist)\n",
    "    return vdist[0][2]\n",
    "    \n",
    "#splits dataset into training and test(in this case an initial amount of data is not used for prediction)\n",
    "def knnTest(dataset,classIndex,features,k,t=0.9,func=norm(2),test=None):\n",
    "    \n",
    "    split = int(t*dataset.shape[0])\n",
    "    pointSet = dataset[0:split]\n",
    "    labels = np.unique(dataset[:,classIndex])\n",
    "    \n",
    "    tp,tn,fp,fn = 0,0,0,0\n",
    "    for i in dataset[split:]:\n",
    "        #print(i)\n",
    "        res = knnPredict(pointSet,classIndex,features,k,i[features],func,labels)\n",
    "        if res == i[classIndex]:\n",
    "            if res == 1:\n",
    "                tp += 1\n",
    "            else:\n",
    "                tn += 1\n",
    "        else:\n",
    "            if res == 1:\n",
    "                fp += 1\n",
    "            else:\n",
    "                fn += 1\n",
    "    if test is not None:\n",
    "        print(\"Test Data\")\n",
    "        for i in test:\n",
    "            print(i,\"Predicted Label\",knnPredict(pointSet,classIndex,features,k,i[features],func,labels))\n",
    "            \n",
    "    return (tp,tn,fp,fn),((tp + tn)/(tp + tn + fp + fn))"
   ]
  },
  {
   "cell_type": "code",
   "execution_count": 76,
   "metadata": {
    "code_folding": [
     0
    ]
   },
   "outputs": [],
   "source": [
    "#data initializing\n",
    "ndata1 = pd.read_csv(\"RobotDataset/Robot1\",sep=\" \",header=None).values[:,1:-1]\n",
    "ndata2 = pd.read_csv(\"RobotDataset/Robot2\",sep=\" \",header=None).values[:,1:-1]\n",
    "#drop the first and last columns since we are not using them\n",
    "np.random.shuffle(ndata1)\n",
    "np.random.shuffle(ndata2)\n",
    "classIndex = 0\n",
    "features = [1,2,3,4,5,6]"
   ]
  },
  {
   "cell_type": "code",
   "execution_count": 702,
   "metadata": {
    "code_folding": [
     0
    ],
    "scrolled": false
   },
   "outputs": [
    {
     "name": "stdout",
     "output_type": "stream",
     "text": [
      "Robot Dataset 1\n",
      "--------------------------------\n",
      "My Implementation using eucludean distance 80% training data k = 7\n",
      "Accuracy 0.8 Recall 0.7692307692307693 Precision 0.8333333333333334 F1 score 0.8\n",
      "Scikit Accuracy\n",
      "0.84\n"
     ]
    },
    {
     "data": {
      "image/png": "[encoded data removed]",
      "text/plain": [
       "<Figure size 432x288 with 1 Axes>"
      ]
     },
     "metadata": {
      "needs_background": "light"
     },
     "output_type": "display_data"
    },
    {
     "name": "stdout",
     "output_type": "stream",
     "text": [
      "Robot Dataset 2\n",
      "--------------------------------\n",
      "My Implementation Using euclidean distance 80% training data k = 7\n",
      "Accuracy 0.84 Recall 0.8333333333333334 Precision 0.8333333333333334 F1 score 0.8333333333333334\n",
      "Scikit Accuracy\n",
      "0.84\n"
     ]
    },
    {
     "data": {
      "image/png": "[encoded data removed]",
      "text/plain": [
       "<Figure size 432x288 with 1 Axes>"
      ]
     },
     "metadata": {
      "needs_background": "light"
     },
     "output_type": "display_data"
    }
   ],
   "source": [
    "#plots and results \n",
    "print(\"Robot Dataset 1\\n--------------------------------\")\n",
    "print(\"My Implementation using eucludean distance 80% training data k = 7\")\n",
    "tp,tn,fp,fn = knnTest(ndata1,0,[1,2,3,4,5,6],k=7,t=0.8,func=norm(2))[0]\n",
    "print(\"Accuracy\",(tp + tn)/(tp + tn + fp + fn),\"Recall\",tp/(tp + fn), \\\n",
    "      \"Precision\",tp/(tp + fp),\"F1 score\",2*tp/(2*tp + fp + fn))\n",
    "print(\"Scikit Accuracy\")\n",
    "print(sciKnn(ndata1,0,[1,2,3,4,5,6],k=7,t=0.8))\n",
    "\n",
    "x,y1,y2 = [],[],[]\n",
    "for i in range(1,18,2):\n",
    "    x += [i]\n",
    "    y1 += [knnTest(ndata1,0,[1,2,3,4,5,6],i,t=0.8)[1]]\n",
    "    y2 += [knnTest(ndata1,0,[1,2,3,4,5,6],i,t=0.8,func=norm(1))[1]]\n",
    "\n",
    "\n",
    "plt.plot(x,y1)\n",
    "plt.plot(x,y2)\n",
    "plt.legend([\"Eucludean\",\"Manhattan\"])\n",
    "plt.xlabel(\"K\")\n",
    "plt.ylabel(\"Accuracy\")\n",
    "plt.show()\n",
    "\n",
    "print(\"Robot Dataset 2\\n--------------------------------\")\n",
    "print(\"My Implementation Using euclidean distance 80% training data k = 7\")\n",
    "tp,tn,fp,fn = knnTest(ndata2,0,[1,2,3,4,5,6],k=7,t=0.8,func=norm(2))[0]\n",
    "print(\"Accuracy\",(tp + tn)/(tp + tn + fp + fn),\"Recall\",tp/(tp + fn), \\\n",
    "      \"Precision\",tp/(tp + fp),\"F1 score\",2*tp/(2*tp + fp + fn))\n",
    "print(\"Scikit Accuracy\")\n",
    "print(sciKnn(ndata2,0,[1,2,3,4,5,6],k=7,t=0.8))\n",
    "\n",
    "x,y1,y2 = [],[],[]\n",
    "for i in range(1,18,2):\n",
    "    x += [i]\n",
    "    \n",
    "    y1 += [knnTest(ndata2,0,[1,2,3,4,5,6],i,t=0.8)[1]]\n",
    "    y2 += [knnTest(ndata2,0,[1,2,3,4,5,6],i,t=0.8,func=norm(1))[1]]\n",
    "\n",
    "\n",
    "plt.plot(x,y1)\n",
    "plt.plot(x,y2)\n",
    "plt.legend([\"Eucludean\",\"Manhattan\"])\n",
    "plt.xlabel(\"K\")\n",
    "plt.ylabel(\"Accuracy\")\n",
    "plt.show()"
   ]
  },
  {
   "cell_type": "markdown",
   "metadata": {},
   "source": [
    "The plots show that the accuracy of the measurements peek at values around k = 9. Interestingly the manhattan graph for the data seems to give better results. This indicates a system of points where all the data are arranged in a grid where a manhattan distance makes more sense as a distance metric compared to euclidean distance."
   ]
  },
  {
   "cell_type": "markdown",
   "metadata": {},
   "source": [
    "#### Iris Dataset"
   ]
  },
  {
   "cell_type": "code",
   "execution_count": 31,
   "metadata": {
    "code_folding": []
   },
   "outputs": [],
   "source": [
    "#setup data location and features and classindex parmeters\n",
    "data = pd.read_csv(\"Iris/Iris.csv\",header=None).values\n",
    "np.random.shuffle(data)\n",
    "#indexes of features and the output class\n",
    "features = [0,1,2,3]\n",
    "classIndex = 4"
   ]
  },
  {
   "cell_type": "code",
   "execution_count": 11,
   "metadata": {},
   "outputs": [],
   "source": [
    "#KNN that outputs a confusion matrix for multiclass data\n",
    "def cknnTest(dataset,classIndex,features,k,t=0.9,func=norm(2),test=None,showstats=None):\n",
    "    \n",
    "    split = int(t*dataset.shape[0])\n",
    "    pointSet = dataset[0:split]\n",
    "    labels = np.unique(dataset[:,classIndex])\n",
    "    \n",
    "    confMat = {}\n",
    "    for i in labels:\n",
    "        confMat[i] = {}\n",
    "        for j in labels:\n",
    "            confMat[i][j] = 0\n",
    "        \n",
    "    for i in dataset[split:]:\n",
    "        #print(i)\n",
    "        res = knnPredict(pointSet,classIndex,features,k,i[features],func,labels)\n",
    "        confMat[i[classIndex]][res] += 1\n",
    "                \n",
    "    a = 0\n",
    "    for i in labels:\n",
    "        a += confMat[i][i]\n",
    "        if showstats is None:\n",
    "            continue\n",
    "        print(\"Label \",i)\n",
    "        r = 0\n",
    "        for k in labels:\n",
    "            r += confMat[i][k]\n",
    "        print(\"Recall\",confMat[i][i]/r)\n",
    "        p = 0\n",
    "        for k in labels:\n",
    "            p += confMat[k][i]\n",
    "        print(\"Precision\",confMat[i][i]/p)\n",
    "        print(\"---------------\")\n",
    "        \n",
    "    if test is not None:\n",
    "        print(\"Test Data\")\n",
    "        for i in test:\n",
    "            print(i,\"Predicted Label\",knnPredict(pointSet,classIndex,features,k,i[features],func,labels))\n",
    "            \n",
    "    return a/dataset[split:].shape[0]"
   ]
  },
  {
   "cell_type": "code",
   "execution_count": 32,
   "metadata": {
    "code_folding": [
     0
    ]
   },
   "outputs": [
    {
     "name": "stdout",
     "output_type": "stream",
     "text": [
      "Iris Dataset \n",
      "--------------------------------\n",
      "k = 7 80% train 20% test Using euclidean distance\n",
      "My Implementation\n",
      "Label  Iris-setosa\n",
      "Recall 1.0\n",
      "Precision 1.0\n",
      "---------------\n",
      "Label  Iris-versicolor\n",
      "Recall 1.0\n",
      "Precision 1.0\n",
      "---------------\n",
      "Label  Iris-virginica\n",
      "Recall 1.0\n",
      "Precision 1.0\n",
      "---------------\n",
      "Overall Accuracy 1.0\n",
      "Scikit Accuracy\n",
      "1.0\n"
     ]
    },
    {
     "data": {
      "image/png": "[encoded data removed]",
      "text/plain": [
       "<Figure size 432x288 with 1 Axes>"
      ]
     },
     "metadata": {
      "needs_background": "light"
     },
     "output_type": "display_data"
    }
   ],
   "source": [
    "#results and plots\n",
    "print(\"Iris Dataset \\n--------------------------------\")\n",
    "print(\"k = 7 80% train 20% test Using euclidean distance\")\n",
    "print(\"My Implementation\")\n",
    "print(\"Overall Accuracy\",cknnTest(data,classIndex,features,k=7,t=0.8,func=norm(2),showstats=1))\n",
    "print(\"Scikit Accuracy\")\n",
    "print(sciKnn(data,classIndex,features,k=7,t=0.8))\n",
    "\n",
    "x,y1,y2 = [],[],[]\n",
    "for i in range(1,20,2):\n",
    "    x += [i]\n",
    "    y1 += [cknnTest(data,classIndex,features,i,t=0.8)]\n",
    "    y2 += [cknnTest(data,classIndex,features,i,t=0.8,func=norm(1))]\n",
    "\n",
    "\n",
    "plt.plot(x,y1)\n",
    "plt.plot(x,y2)\n",
    "plt.legend([\"Eucludean\",\"Manhattan\"])\n",
    "plt.xlabel(\"K\")\n",
    "plt.ylabel(\"Accuracy\")\n",
    "plt.show()"
   ]
  },
  {
   "cell_type": "markdown",
   "metadata": {},
   "source": [
    "Interestingly for this pirticular arrangement of data points we see a dip in accuracy for the mid values of K not seen in the robot dataset. This is most likely an outlier as other random shuffles of data points have not resulted in such patterns. Also it seems that we can perfectly predict at most k level with only a one step dip in accuracy and not a smooth decrease indicating as a result of the low number of prediction samples used to validate the data. "
   ]
  },
  {
   "cell_type": "markdown",
   "metadata": {},
   "source": [
    "### Question 2 : Naive Bayes Classifier\n"
   ]
  },
  {
   "cell_type": "markdown",
   "metadata": {},
   "source": [
    "The naive bayes classifier predicts the label of a data given the probabilty of the data being classified to the pirticular class based on the training data encountered. Using the bayes rule we can estimate the probability of an event(in this case an outcome) $Y$ which is based on a set of attributes $X_1,X_2,...,X_n$ as $$P(Y|X_1,X_2,...X_n) = \\frac{P(X_1,X_2,...X_n|Y)P(Y)}{P(X_1,X_2,...X_n)}$$\n",
    "Using this formulae we can compute the individual elements from the training set as follows\n",
    "<ul>\n",
    "    <li>$P(y)$ called the prior can be calculated as $P(Y = 1) = \\dfrac{count(Y = 1)}{count(Y = 1) + count(Y = 0)}$ and corresponding for $P(Y = 0)$ where count is the number or tuples with the given condition.</li>\n",
    "    <li>$P(X_1,X_2,...X_n|Y)$ called the likelihood of the given set of values $X_1,X_2,...X_n$ to predict to the label values $Y$. This is calclated based on the training data provided. Essentially we consider the effect of each attribute on $Y$ to be independent of one another and decompose the joint probability into multiplications of individual probabilities as $$P(X_1,X_2,...X_n|Y) = \\prod_{i=(1,2,..,n)}P(X_i|Y)$$ Through this assumption we can now get the individual probabilites as $$P(X_i = a|Y = 0) = \\dfrac{count(X_i = a ,Y = 0)}{count(Y = 0)}$$ However finding $X_i = a$ for numerical data is different form categorical data where it involves simply counting the number of tuples with the given value. For numerical data $X_i = a$ represents theprobability of the value being $a$ given a normal distribution of data values of $X_i$ with the constraint of $Y = 0$ (or $Y = 1$). Thus for computing the numerical probability we find the mean and standard deviation of the tuples satisfying the prior condition and use the gaussian distribution to estimate the probability.</li>\n",
    "    <li>$P(X_1,X_2,...X_n)$ is the normalizing constant. This probabilty for pirticular values of $X_i$ is given by the conditional probability $$ P(X_1,X_2,...X_n) = P(X_1,X_2,...X_n|Y = 1) + P(X_1,X_2,...X_n|Y = 0) $$ To predict the label we need to check if $$ P(Y = 1|X_1,X_2,...X_n) > P(Y = 0|X_1,X_2,...X_n) $$ which equates to $$ \\dfrac{P(X_1,X_2,...X_n|Y = 1)P(Y = 1)}{P(X_1,X_2,...X_n)} > \\dfrac{P(X_1,X_2,...X_n|Y = 0)P(Y = 0)}{P(X_1,X_2,...X_n)} $$ or vice versa. As both the denominators are equal we just need to compute the numerator for the comparison to be valid.</li>\n",
    "</ul>\n",
    "\n",
    "#### Missing Atribute Issue\n",
    "\n",
    "We might encounter a categorical value for an attribute which is not present in one of the classes based on the training data provided. In such a situation if a prediction is to be made we replace the missing probability with the prior value of the class of which we are calculating the probability of the test data to belong. "
   ]
  },
  {
   "cell_type": "code",
   "execution_count": 57,
   "metadata": {},
   "outputs": [],
   "source": [
    "#load data\n",
    "data = pd.read_csv(\"LoanDataset/data.csv\",header=0).values\n",
    "tdata = None\n",
    "try:\n",
    "    tdata = pd.read_csv(\"Test Data Loc\").values\n",
    "except:\n",
    "    tdata = None\n",
    "data = data[:,1:]\n",
    "np.random.shuffle(data)"
   ]
  },
  {
   "cell_type": "code",
   "execution_count": 52,
   "metadata": {},
   "outputs": [],
   "source": [
    "def condProbCat(data_label):\n",
    "    d = {}\n",
    "    ulabel = np.unique(data_label[:,1])\n",
    "    for l in ulabel:\n",
    "        du = data_label[data_label[:,1] == l,0]\n",
    "        total = du.shape[0]\n",
    "        udu = np.unique(du,return_counts=True)\n",
    "        for i,j in list(zip(udu[0],udu[1])):\n",
    "            d[(l,i)] = j/total\n",
    "    #print(d)      \n",
    "    def retFunc(val,cond):\n",
    "        if (cond,val) in d.keys():\n",
    "            return d[(cond,val)]\n",
    "        return -1\n",
    "    return retFunc\n",
    "\n",
    "def normalDist(p,mean,sdev):\n",
    "    return (1/(((2*np.pi)**(0.5))*sdev)) * np.e**(-0.5*(((p - mean)**2)/(sdev**2)))\n",
    "\n",
    "def condProbNum(data_label):\n",
    "    d = {}\n",
    "    ulabel = np.unique(data_label[:,1])\n",
    "    for l in ulabel:\n",
    "        du = data_label[data_label[:,1] == l,0]\n",
    "        d[l] = (np.mean(du),np.std(du))\n",
    "    #print(d)   \n",
    "    def retFunc(val,cond):\n",
    "        return normalDist(val,d[cond][0],d[cond][1])\n",
    "    return retFunc\n",
    "\n"
   ]
  },
  {
   "cell_type": "code",
   "execution_count": 53,
   "metadata": {},
   "outputs": [],
   "source": [
    "def createBayes(data,classIndex,features,featureType):\n",
    "    \n",
    "    bayesfunc = {}\n",
    "    for i in features:\n",
    "        if featureType[i] == 0:\n",
    "            bayesfunc[i] = condProbCat(data[:,[i,classIndex]])\n",
    "        else:\n",
    "            bayesfunc[i] = condProbNum(data[:,[i,classIndex]])\n",
    "            \n",
    "    bayesPrior = {}\n",
    "    ulabel = np.unique(data[:,classIndex],return_counts = True)\n",
    "    for i,j in list(zip(ulabel[0],ulabel[1])):\n",
    "        bayesPrior[i] = j/data.shape[0]\n",
    "    \n",
    "    return (bayesfunc,bayesPrior)\n",
    "\n",
    "def bayesPredict(bayes,test,features):\n",
    "    \n",
    "    func,prior = bayes[0],bayes[1]\n",
    "    label = list(prior.keys())[0]\n",
    "    maxProb = 0\n",
    "    for i in list(prior.keys()):\n",
    "        prob = prior[i]\n",
    "        for j in features:\n",
    "            p = func[j](test[j],i)\n",
    "            if p <= 0:\n",
    "                p = prior[i]\n",
    "            prob *= p\n",
    "        if prob > maxProb:\n",
    "            maxProb = prob\n",
    "            label = i\n",
    "    return label"
   ]
  },
  {
   "cell_type": "code",
   "execution_count": 54,
   "metadata": {},
   "outputs": [],
   "source": [
    "#parameters\n",
    "#dict having boolean values determining which type is pirticular attribute(feature)\n",
    "#0 categorical , 1 numerical\n",
    "featureType = {}\n",
    "featureType[0] = 1 #age\n",
    "featureType[1] = 1 #number of years of exp\n",
    "featureType[2] = 1 #annual income\n",
    "#featureType[3] = 1 #ZIP Code\n",
    "featureType[4] = 1 #family size\n",
    "featureType[5] = 1 #average spending\n",
    "featureType[6] = 0 #education level\n",
    "featureType[7] = 1 #mortgage\n",
    "featureType[9] = 0 #securities\n",
    "featureType[10] = 0 #CD\n",
    "featureType[11] = 0 #internet banking\n",
    "featureType[12] = 0 #credit card\n",
    "#columns(attribute) indices of features\n",
    "features = list(featureType.keys())\n",
    "#column index of label\n",
    "classIndex = 8"
   ]
  },
  {
   "cell_type": "code",
   "execution_count": 58,
   "metadata": {},
   "outputs": [
    {
     "name": "stdout",
     "output_type": "stream",
     "text": [
      "My Accuracy 0.9244444444444444\n",
      "Scikit 0.9133333333333333\n"
     ]
    }
   ],
   "source": [
    "def bayesTest(data,classIndex,features,featureType,t=0.8,test=None):\n",
    "    split = int(t * data.shape[0])\n",
    "    train = data[0:split]\n",
    "    validate = data[split:]\n",
    "    bayes = createBayes(train,classIndex,features,featureType)\n",
    "\n",
    "    t,f = 0,0\n",
    "    for i in validate:\n",
    "        pl = bayesPredict(bayes,i,features)\n",
    "        if pl == i[classIndex]:\n",
    "            t += 1\n",
    "        else:\n",
    "            f += 1\n",
    "    \n",
    "    if test is not None:\n",
    "        print(\"Test data\")\n",
    "        for i in test:\n",
    "            print(\"Data\",i,\"Prediction\",bayesPredict(bayes,i,features))\n",
    "            \n",
    "    print(\"My Accuracy\",t/(t+f))\n",
    "    clf = GaussianNB()\n",
    "    clf.fit(train[:,features],train[:,classIndex])\n",
    "    print(\"Scikit\",clf.score(validate[:,features],validate[:,classIndex]))\n",
    "    \n",
    "\n",
    "bayesTest(data,classIndex,features,featureType,t=0.9,test=tdata)"
   ]
  },
  {
   "cell_type": "markdown",
   "metadata": {},
   "source": [
    "### Question 3 Linear Regression\n",
    "\n",
    "Linear regression is a prediction algorithm. It tries to predict the outcome of an event based on known outcomes by trying to establish relationships between the input parameters(independent variables) and output parameters(dependent variables). It is genrally done in the form of a linear combination of independent variables(with some offset or intercept). In a system with one dependent and one independent variable this results in the $y = \\beta_0 + \\beta_1*x$ which is the equation of a line in 2 dimension. Generalizing this equation for multiple independent variable we get $$y = \\beta_0 + \\beta_1x_1 + ... + \\beta_nx_n$$, i.e. the equation of a hyperplane in n dimension where $x_i$ are the independent variables and $y$ is the outcome(dependent variable).\n",
    "Intuitively, using in linear regression model we can interpret the coefficient of each of the dependent variable as the amount by which the outcome will change with a unit increase in the corresponding independent variable. It is easy to compare which attributes have a higher effect on the outcome variable provided they have the same scale.\n",
    "\n",
    "Given a set of training data we can model the coefficients as a system of linear eqiations namely. $$\\begin{bmatrix} 1 & x_{11} & x_{12} & \\dots & x_{n1} \\\\ 1 & x_{21} & x_{22} & \\dots & x_{n2} \\\\1 & x_{31} & x_{31} & \\dots & x_{n3} \\\\ \\vdots & \\vdots & \\vdots & \\ddots & \\vdots\\\\ 1 & x_{m1} & x_{m2} & \\dots & x_{mn} \\end{bmatrix} \\begin{bmatrix} \\beta_0 \\\\ \\beta_1 \\\\ \\beta_2 \\\\ \\vdots \\\\ \\beta_n \\end{bmatrix} = \\begin{bmatrix} y_1 \\\\ y_2 \\\\ y_3 \\\\ \\vdots \\\\ y_m \\end{bmatrix}\\\\ A\\beta = Y$$  \n",
    "Where $y_i$ are the outome varibles in the training dataset with each tuples as $x_1,x_2 ... ,x_n$. We add a $1$ to every tuple in the training dataset to get the intercept. Since for the system of eauations $m$ i.e. the number of training samples is assumed to be greater than $n$, the number of attributes we get the least square error solution for the set of coefficiets as $$\\beta = (A^TA)^{-1}A^TY$$. This results in a line which minimizes the mean square error $$\\dfrac{1}{m}\\sum_{i = 1}^{m}(y_i - (\\beta_0 + \\beta_1x_1 + \\beta_2x_2 + \\dots + \\beta_nx_n))^2$$"
   ]
  },
  {
   "cell_type": "code",
   "execution_count": 87,
   "metadata": {},
   "outputs": [],
   "source": [
    "\n",
    "pdata = pd.read_csv(\"AdmissionDataset/data.csv\")\n",
    "data = pdata.values[:,1:]\n",
    "np.random.shuffle(data)\n",
    "classIndex = 7\n",
    "features = [0,1,2,3,4,5,6]\n",
    "split = 0.8"
   ]
  },
  {
   "cell_type": "code",
   "execution_count": 63,
   "metadata": {},
   "outputs": [],
   "source": [
    "def getCoeff(X,Y):\n",
    "    X = np.hstack((np.ones([X.shape[0],1]),X))\n",
    "    C = np.matmul(np.matmul(np.linalg.inv(np.matmul(X.T,X)),X.T),Y)\n",
    "    return C"
   ]
  },
  {
   "cell_type": "code",
   "execution_count": 64,
   "metadata": {},
   "outputs": [],
   "source": [
    "def MAE(ya,yp):\n",
    "    return abs(ya - yp)\n",
    "def MSE(ya,yp):\n",
    "    return (ya - yp)**2\n",
    "def MPE(ya,yp):\n",
    "    return 100 * ((ya - yp)/ya)"
   ]
  },
  {
   "cell_type": "code",
   "execution_count": 83,
   "metadata": {},
   "outputs": [],
   "source": [
    "def LRPredict(coeff,test):\n",
    "    i = 0\n",
    "    r = coeff[0].copy()\n",
    "    while i < test.shape[0]:\n",
    "        r += (coeff[i+1] * test[i])\n",
    "        i += 1\n",
    "    return r\n",
    "\n",
    "def trainTest(data,classIndex,features,t=0.8,coeff=None,errofunc=MSE,test=None):\n",
    "    split = int(t*data.shape[0])\n",
    "    train = data[0:split]\n",
    "    vald = data[split:]\n",
    "    \n",
    "    coeff = getCoeff(train[:,features],train[:,classIndex].reshape(-1,1)).T[0]\n",
    "    #if coeff is None:\n",
    "    #    coeff = trainLinearRegression(train[:,features],train[:,classIndex].reshape(-1,1),func=leastSqDiff,th=0.002)\n",
    "    \n",
    "    lr = linear_model.LinearRegression()\n",
    "    lr.fit(train[:,features],train[:,classIndex])\n",
    "    #print(\"My coeff\",coeff,\"\\nScikit coeff\",lr.intercept_,lr.coef_)\n",
    "    \n",
    "    diff = 0\n",
    "    for i in vald:\n",
    "        diff += errofunc(i[classIndex],LRPredict(coeff,i[features]))\n",
    "    \n",
    "    if test is not None:\n",
    "        print(\"Test data\")\n",
    "        print(\"Data\",i,\"Prediction\",LRPredict(coeff,i[features]))\n",
    "    return coeff,diff/vald.shape[0]"
   ]
  },
  {
   "cell_type": "code",
   "execution_count": 88,
   "metadata": {
    "code_folding": [
     0
    ]
   },
   "outputs": [
    {
     "name": "stdout",
     "output_type": "stream",
     "text": [
      "Mean Sqare Test Error 0.0030377319269908254 \n",
      "Mean Absolute Error 0.04015654942238491 \n",
      "Mean Percentage Error -0.26436211522723013\n",
      "Coefficients\n",
      "GRE Score 0.002013230408636037\n",
      "TOEFL Score 0.0025273692428317285\n",
      "University Rating 0.003984417327831096\n",
      "SOP 0.003074918705412005\n",
      "LOR  0.017061080294566985\n",
      "CGPA 0.11762769068044701\n",
      "Research 0.022329832772697056\n",
      "Intercept -1.2916641462859417\n"
     ]
    }
   ],
   "source": [
    "#calculate errors \n",
    "split = 0.8\n",
    "coeff,mse = trainTest(data,classIndex,features,t = 0.8)\n",
    "coeff,mae = trainTest(data,classIndex,features,t = 0.8,coeff=coeff,errofunc=MAE)\n",
    "coeff,mpe = trainTest(data,classIndex,features,t = 0.8,coeff=coeff,errofunc=MPE)\n",
    "\n",
    "print(\"Mean Sqare Test Error\",mse, \\\n",
    "     \"\\nMean Absolute Error\",mae,\\\n",
    "     \"\\nMean Percentage Error\",mpe)\n",
    "print(\"Coefficients\")\n",
    "for i,j in list(zip(pdata.columns.values[1:],coeff[1:])):\n",
    "    print(i,j)\n",
    "print(\"Intercept\",coeff[0])"
   ]
  },
  {
   "cell_type": "markdown",
   "metadata": {},
   "source": [
    "#### Analyzing Coefficients.\n",
    "\n",
    "From the coefficients obtained we can identify which attributes are relatively more important to the result.\n",
    "However, it is not necessarily the attributes which have the highest coefficients results as the weights are calculated based on the relative magnitude of the values of the attributes. Example, the coeficients of GRE Score, TOEFL Score are much lower than that of CGPA because these attributes take values take larger values. Each coefficient determines by what percentage the chance of being selected is increased with one point increase in the corresponding attribute. \n",
    "\n",
    "Plotting the graphs of a linear regression on GRE and CGPA with both the line pradicted with the GRE only affecting the result, and taking all other attributes including GRE into consideration. The y intercept while considering all attributes is taken arbitarily. This attribute has no consequence and is only used to show the line in a better position w.r.t the other. We are intersested in the change in the slope of the line and the magnitude of the change. Also notice that the intercept and coefficient of SOP are negetive. The intercept therefore does not say much as a negetive probability does not make much sense. Similarly the negetive value for SOP seem to indicate that having a better SOP is bad for the chances of getting selected which might indicate a bias towards other attributes in selection and not necessarily a deteremental quality."
   ]
  },
  {
   "cell_type": "code",
   "execution_count": 75,
   "metadata": {
    "code_folding": []
   },
   "outputs": [
    {
     "data": {
      "image/png": "[encoded data removed]",
      "text/plain": [
       "<Figure size 1080x360 with 3 Axes>"
      ]
     },
     "metadata": {
      "needs_background": "light"
     },
     "output_type": "display_data"
    }
   ],
   "source": [
    "#Plots on 'split' percentage of data\n",
    "data2 = data[0:int(split * data.shape[0])]\n",
    "c,m = getCoeff(data2[:,0].reshape(-1,1),data2[:,classIndex].reshape(-1,1))\n",
    "x = np.arange(np.min(data2[:,0]) - 20, np.max(data2[:,0]) + 20)\n",
    "y = m*x + c\n",
    "yp = coeff[1]*x\n",
    "plt.figure(figsize=(15,5))\n",
    "plt.subplot(1,3,1)\n",
    "plt.scatter(data2[:,0],data2[:,classIndex],s = 2)\n",
    "plt.plot(x,y,c=\"red\",label=\"Only GRE\")\n",
    "plt.plot(x,yp,c=\"green\",label=\"ALL Atributes\")\n",
    "plt.title(\"GRE\")\n",
    "plt.legend()\n",
    "\n",
    "plt.subplot(1,3,2)\n",
    "c,m = getCoeff(data2[:,5].reshape(-1,1),data2[:,classIndex].reshape(-1,1))\n",
    "x = np.arange(np.min(data2[:,5]) - 1, np.max(data2[:,5]) + 1)\n",
    "y = m*x + c\n",
    "plt.scatter(data2[:,5],data2[:,classIndex],s = 2)\n",
    "plt.plot(x,y,c=\"red\",label=\"Only CGPA\")\n",
    "yp = coeff[6]*x -0.3\n",
    "plt.plot(x,yp,c=\"green\",label=\"All attributes\")\n",
    "plt.title(\"CGPA\")\n",
    "plt.legend()\n",
    "\n",
    "plt.subplot(1,3,3)\n",
    "c,m = getCoeff(data2[:,3].reshape(-1,1),data2[:,classIndex].reshape(-1,1))\n",
    "x = np.arange(np.min(data2[:,3]) - 1, np.max(data2[:,3]) + 2)\n",
    "y = m*x + c\n",
    "plt.scatter(data2[:,3],data2[:,classIndex],s = 2)\n",
    "plt.plot(x,y,c=\"red\",label=\"Only SOP\")\n",
    "yp = coeff[6]*x + 0.3\n",
    "plt.plot(x,yp,c=\"green\",label=\"All attributes\")\n",
    "plt.title(\"SOP\")\n",
    "plt.legend()\n",
    "plt.show()"
   ]
  }
 ],
 "metadata": {
  "kernelspec": {
   "display_name": "Python 3",
   "language": "python",
   "name": "python3"
  },
  "language_info": {
   "codemirror_mode": {
    "name": "ipython",
    "version": 3
   },
   "file_extension": ".py",
   "mimetype": "text/x-python",
   "name": "python",
   "nbconvert_exporter": "python",
   "pygments_lexer": "ipython3",
   "version": "3.6.7"
  }
 },
 "nbformat": 4,
 "nbformat_minor": 2
}
